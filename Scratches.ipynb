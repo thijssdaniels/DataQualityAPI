{
 "cells": [
  {
   "cell_type": "code",
   "execution_count": 23,
   "metadata": {},
   "outputs": [],
   "source": [
    "import pandas as pd\n",
    "import pathlib\n",
    "import yaml\n",
    "from functions import *\n",
    "from collections import Counter\n",
    "\n",
    "import plotly.graph_objects as go\n",
    "\n",
    "# Path\n",
    "BASE_PATH = pathlib.Path().resolve()\n",
    "DATA_PATH = BASE_PATH.joinpath('data').resolve()\n",
    "\n",
    "# Read Data\n",
    "df = pd.read_csv(DATA_PATH.joinpath('df.csv'), delimiter=';', skiprows=4, na_values='#')\n",
    "df['index'] = range(1, len(df) + 1)\n",
    "\n",
    "with open(DATA_PATH.joinpath('config.yml')) as file:\n",
    "    # The FullLoader parameter handles the conversion from YAML\n",
    "    # scalar values to Python the dictionary format\n",
    "    yaml_list = yaml.safe_load(file)\n",
    "    completeness_cols = yaml_list['completeness']\n",
    "\n",
    "# Clean column names and parse date columns\n",
    "df.columns = parse_column_names(df)\n",
    "\n",
    "date_cols = returnDateCols(df, threshold=0.5, sample_size=1000)\n",
    "df[date_cols] = df[date_cols].apply(pd.to_datetime, errors='coerce')\n",
    "\n",
    "# Completeness Frame and Score\n",
    "compl_frame, compl_array = dim_completeness(df, completeness_cols)"
   ]
  },
  {
   "cell_type": "code",
   "execution_count": 31,
   "metadata": {},
   "outputs": [],
   "source": [
    "df_new = pd.concat([df['notiftype'], compl_frame], axis=1)\n",
    "df_new.set_index('notiftype', inplace=True)\n",
    "\n",
    "values = df['notiftype'].unique()\n",
    "\n",
    "counter = []\n",
    "for v in values:\n",
    "    c = Counter(df_new.loc[v].values.flatten())\n",
    "    counter.append(c)\n",
    "    \n",
    "data = []\n",
    "for i in range(len(counter)):\n",
    "    d = {\n",
    "        \"values\": list(counter[i].values()),\n",
    "        \"labels\": list(counter[i].keys()),\n",
    "        \"domain\": {\"column\": 0},\n",
    "        \"name\": values[i],\n",
    "        \"hole\": .4,\n",
    "        \"type\": \"pie\"\n",
    "    }\n",
    "    data.append(d)\n",
    "\n",
    "layout = go.Layout(\n",
    "    {\n",
    "        \"title\": \"Completeness per Notification Type\",\n",
    "        \"grid\": {\"rows\": 1, \"columns\": 2},\n",
    "        \"annotations\": [\n",
    "            {\n",
    "                \"font\": {\n",
    "                    \"size\": 20\n",
    "                },\n",
    "                \"showarrow\": False,\n",
    "                \"text\": \"K1\",\n",
    "                \"x\": 0.23,\n",
    "                \"y\": 0.5\n",
    "            },\n",
    "            {\n",
    "                \"font\": {\n",
    "                    \"size\": 20\n",
    "                },\n",
    "                \"showarrow\": False,\n",
    "                \"text\": \"KT\",\n",
    "                \"x\": 0.77,\n",
    "                \"y\": 0.5\n",
    "            }\n",
    "        ]\n",
    "    }\n",
    ")"
   ]
  },
  {
   "cell_type": "code",
   "execution_count": 33,
   "metadata": {},
   "outputs": [
    {
     "data": {
      "text/plain": [
       "[{'values': [69755, 12877],\n",
       "  'labels': [False, True],\n",
       "  'domain': {'column': 0},\n",
       "  'name': 'KT',\n",
       "  'hole': 0.4,\n",
       "  'type': 'pie'},\n",
       " {'values': [200159, 11779],\n",
       "  'labels': [False, True],\n",
       "  'domain': {'column': 0},\n",
       "  'name': 'K1',\n",
       "  'hole': 0.4,\n",
       "  'type': 'pie'}]"
      ]
     },
     "execution_count": 33,
     "metadata": {},
     "output_type": "execute_result"
    }
   ],
   "source": [
    "data"
   ]
  }
 ],
 "metadata": {
  "kernelspec": {
   "display_name": "Python 3",
   "language": "python",
   "name": "python3"
  },
  "language_info": {
   "codemirror_mode": {
    "name": "ipython",
    "version": 3
   },
   "file_extension": ".py",
   "mimetype": "text/x-python",
   "name": "python",
   "nbconvert_exporter": "python",
   "pygments_lexer": "ipython3",
   "version": "3.8.5"
  }
 },
 "nbformat": 4,
 "nbformat_minor": 4
}
